{
 "cells": [
  {
   "cell_type": "code",
   "execution_count": 138,
   "id": "aff21a41",
   "metadata": {},
   "outputs": [
    {
     "name": "stdout",
     "output_type": "stream",
     "text": [
      "  country_code country_name           region     sub_region  \\\n",
      "0          Afg   Afganistan  ASIA MERIDIONAL  Southern Asia   \n",
      "1          Afg   Afganistan  ASIA MERIDIONAL  Southern Asia   \n",
      "2          Afg   Afganistan  ASIA MERIDIONAL  Southern Asia   \n",
      "3          Afg   Afganistan  ASIA MERIDIONAL  Southern Asia   \n",
      "4          Afg   Afganistan  ASIA MERIDIONAL  Southern Asia   \n",
      "\n",
      "                               indicator_name  year  inflation_rate  \n",
      "0  Inflacion, Precios Al Consumidor (% Anual)  1960             0.0  \n",
      "1  Inflacion, Precios Al Consumidor (% Anual)  1961             0.0  \n",
      "2  Inflacion, Precios Al Consumidor (% Anual)  1962             0.0  \n",
      "3  Inflacion, Precios Al Consumidor (% Anual)  1963             0.0  \n",
      "4  Inflacion, Precios Al Consumidor (% Anual)  1964             0.0  \n"
     ]
    }
   ],
   "source": [
    "import pandas as pd\n",
    "\n",
    "df1 = pd.read_csv(\"global_inflation_countries.csv\")  \n",
    "print(df.head())  \n"
   ]
  },
  {
   "cell_type": "code",
   "execution_count": 139,
   "id": "ebc187de",
   "metadata": {},
   "outputs": [
    {
     "data": {
      "text/plain": [
       "(13760, 7)"
      ]
     },
     "execution_count": 139,
     "metadata": {},
     "output_type": "execute_result"
    }
   ],
   "source": [
    "df.shape"
   ]
  },
  {
   "cell_type": "code",
   "execution_count": 140,
   "id": "f81f13bc",
   "metadata": {},
   "outputs": [
    {
     "data": {
      "text/plain": [
       "Index(['country_code', 'country_name', 'region', 'sub_region',\n",
       "       'indicator_name', 'year', 'inflation_rate'],\n",
       "      dtype='object')"
      ]
     },
     "execution_count": 140,
     "metadata": {},
     "output_type": "execute_result"
    }
   ],
   "source": [
    "df.columns"
   ]
  },
  {
   "cell_type": "code",
   "execution_count": 141,
   "id": "38df511d",
   "metadata": {},
   "outputs": [
    {
     "data": {
      "text/plain": [
       "country_code       object\n",
       "country_name       object\n",
       "region             object\n",
       "sub_region         object\n",
       "indicator_name     object\n",
       "year                int32\n",
       "inflation_rate    float64\n",
       "dtype: object"
      ]
     },
     "execution_count": 141,
     "metadata": {},
     "output_type": "execute_result"
    }
   ],
   "source": [
    "df.dtypes"
   ]
  },
  {
   "cell_type": "code",
   "execution_count": 142,
   "id": "e64224b1",
   "metadata": {},
   "outputs": [
    {
     "name": "stdout",
     "output_type": "stream",
     "text": [
      "country_code      0\n",
      "country_name      0\n",
      "region            0\n",
      "sub_region        0\n",
      "indicator_name    0\n",
      "year              0\n",
      "inflation_rate    0\n",
      "dtype: int64\n"
     ]
    }
   ],
   "source": [
    "print(df.isnull().sum())"
   ]
  },
  {
   "cell_type": "code",
   "execution_count": 143,
   "id": "653506c1",
   "metadata": {},
   "outputs": [
    {
     "name": "stdout",
     "output_type": "stream",
     "text": [
      "\n",
      "DataFrame after dropping columns 'intermediate_region' and 'indicator_code':\n",
      "      country_code country_name  \\\n",
      "0              AFG   AFGANISTAN   \n",
      "1              AFG   AFGANISTAN   \n",
      "2              AFG   AFGANISTAN   \n",
      "3              AFG   AFGANISTAN   \n",
      "4              AFG   AFGANISTAN   \n",
      "...            ...          ...   \n",
      "13755          ZWE     ZIMBABWE   \n",
      "13756          ZWE     ZIMBABWE   \n",
      "13757          ZWE     ZIMBABWE   \n",
      "13758          ZWE     ZIMBABWE   \n",
      "13759          ZWE     ZIMBABWE   \n",
      "\n",
      "                                                  region          sub_region  \\\n",
      "0                                        ASIA MERIDIONAL       SOUTHERN ASIA   \n",
      "1                                        ASIA MERIDIONAL       SOUTHERN ASIA   \n",
      "2                                        ASIA MERIDIONAL       SOUTHERN ASIA   \n",
      "3                                        ASIA MERIDIONAL       SOUTHERN ASIA   \n",
      "4                                        ASIA MERIDIONAL       SOUTHERN ASIA   \n",
      "...                                                  ...                 ...   \n",
      "13755  ÁFRICA AL SUR DEL SAHARA (EXCLUIDO ALTOS INGRE...  SUB-SAHARAN AFRICA   \n",
      "13756  ÁFRICA AL SUR DEL SAHARA (EXCLUIDO ALTOS INGRE...  SUB-SAHARAN AFRICA   \n",
      "13757  ÁFRICA AL SUR DEL SAHARA (EXCLUIDO ALTOS INGRE...  SUB-SAHARAN AFRICA   \n",
      "13758  ÁFRICA AL SUR DEL SAHARA (EXCLUIDO ALTOS INGRE...  SUB-SAHARAN AFRICA   \n",
      "13759  ÁFRICA AL SUR DEL SAHARA (EXCLUIDO ALTOS INGRE...  SUB-SAHARAN AFRICA   \n",
      "\n",
      "                                   indicator_name  year  inflation_rate  \n",
      "0      INFLACION, PRECIOS AL CONSUMIDOR (% ANUAL)  1960        0.000000  \n",
      "1      INFLACION, PRECIOS AL CONSUMIDOR (% ANUAL)  1961        0.000000  \n",
      "2      INFLACION, PRECIOS AL CONSUMIDOR (% ANUAL)  1962        0.000000  \n",
      "3      INFLACION, PRECIOS AL CONSUMIDOR (% ANUAL)  1963        0.000000  \n",
      "4      INFLACION, PRECIOS AL CONSUMIDOR (% ANUAL)  1964        0.000000  \n",
      "...                                           ...   ...             ...  \n",
      "13755  INFLACION, PRECIOS AL CONSUMIDOR (% ANUAL)  2019      255.304991  \n",
      "13756  INFLACION, PRECIOS AL CONSUMIDOR (% ANUAL)  2020      557.201817  \n",
      "13757  INFLACION, PRECIOS AL CONSUMIDOR (% ANUAL)  2021       98.546105  \n",
      "13758  INFLACION, PRECIOS AL CONSUMIDOR (% ANUAL)  2022      104.705171  \n",
      "13759  INFLACION, PRECIOS AL CONSUMIDOR (% ANUAL)  2023        0.000000  \n",
      "\n",
      "[13760 rows x 7 columns]\n"
     ]
    }
   ],
   "source": [
    "# Drop columns 'intermediate_region' and 'indicator_code'\n",
    "df = df1.drop(columns=['intermediate_region', 'indicator_code'])\n",
    "\n",
    "# Display the DataFrame after dropping columns\n",
    "print(\"\\nDataFrame after dropping columns 'intermediate_region' and 'indicator_code':\")\n",
    "print(df)"
   ]
  },
  {
   "cell_type": "code",
   "execution_count": 144,
   "id": "c2c96e62",
   "metadata": {},
   "outputs": [
    {
     "name": "stdout",
     "output_type": "stream",
     "text": [
      "country_code         0\n",
      "country_name         0\n",
      "region            5440\n",
      "sub_region           0\n",
      "indicator_name       0\n",
      "year                 0\n",
      "inflation_rate       0\n",
      "dtype: int64\n"
     ]
    }
   ],
   "source": [
    "print(df.isnull().sum())"
   ]
  },
  {
   "cell_type": "code",
   "execution_count": 145,
   "id": "3461a3c9",
   "metadata": {},
   "outputs": [],
   "source": [
    "# Fill missing values in 'region' column with the mode of the 'sub_region' column\n",
    "df[\"region\"] = df.groupby(\"sub_region\")[\"region\"].transform(lambda x: x.fillna(x.mode()[0]) if not x.mode().empty else x)\n"
   ]
  },
  {
   "cell_type": "code",
   "execution_count": 146,
   "id": "dfb257a3",
   "metadata": {},
   "outputs": [
    {
     "name": "stdout",
     "output_type": "stream",
     "text": [
      "country_code         0\n",
      "country_name         0\n",
      "region            1728\n",
      "sub_region           0\n",
      "indicator_name       0\n",
      "year                 0\n",
      "inflation_rate       0\n",
      "dtype: int64\n"
     ]
    }
   ],
   "source": [
    "print(df.isnull().sum())"
   ]
  },
  {
   "cell_type": "code",
   "execution_count": 147,
   "id": "722ca6f3",
   "metadata": {},
   "outputs": [
    {
     "name": "stdout",
     "output_type": "stream",
     "text": [
      "Sub-regions with missing regions: ['WESTERN EUROPE' 'AUSTRALIA AND NEW ZEALAND' 'NORTHERN AMERICA'\n",
      " 'NORTHERN EUROPE']\n"
     ]
    }
   ],
   "source": [
    "missing_regions = df[df[\"region\"].isnull()][\"sub_region\"].unique()\n",
    "print(\"Sub-regions with missing regions:\", missing_regions)\n"
   ]
  },
  {
   "cell_type": "code",
   "execution_count": 148,
   "id": "0c3c73a5",
   "metadata": {},
   "outputs": [],
   "source": [
    "sub_region_to_region = {\n",
    "    \"WESTERN EUROPE\": \"EUROPE\",\n",
    "    \"AUSTRALIA AND NEW ZEALAND\": \"OCEANIA\",\n",
    "    \"NORTHERN AMERICA\": \"AMERICAS\",\n",
    "    \"NORTHERN EUROPE\": \"EUROPE\"\n",
    "}\n",
    "df[\"region\"] = df[\"region\"].fillna(df[\"sub_region\"].map(sub_region_to_region))\n"
   ]
  },
  {
   "cell_type": "code",
   "execution_count": 149,
   "id": "b2b30857",
   "metadata": {},
   "outputs": [
    {
     "name": "stdout",
     "output_type": "stream",
     "text": [
      "country_code      0\n",
      "country_name      0\n",
      "region            0\n",
      "sub_region        0\n",
      "indicator_name    0\n",
      "year              0\n",
      "inflation_rate    0\n",
      "dtype: int64\n"
     ]
    }
   ],
   "source": [
    "print(df.isnull().sum())"
   ]
  },
  {
   "cell_type": "code",
   "execution_count": 150,
   "id": "db399c4b",
   "metadata": {},
   "outputs": [
    {
     "name": "stdout",
     "output_type": "stream",
     "text": [
      "Duplicate rows: 0\n"
     ]
    }
   ],
   "source": [
    "print(f\"Duplicate rows: {df.duplicated().sum()}\")  # Count duplicate rows\n"
   ]
  },
  {
   "cell_type": "code",
   "execution_count": 151,
   "id": "fbde1dd7",
   "metadata": {},
   "outputs": [],
   "source": [
    "\n",
    "# Remove duplicates if any\n",
    "df.drop_duplicates(inplace=True)\n"
   ]
  },
  {
   "cell_type": "code",
   "execution_count": 152,
   "id": "855e4a46",
   "metadata": {},
   "outputs": [],
   "source": [
    "df[\"year\"] = df[\"year\"].astype(int)\n"
   ]
  },
  {
   "cell_type": "code",
   "execution_count": 153,
   "id": "39a1c5c0",
   "metadata": {},
   "outputs": [],
   "source": [
    "df[\"inflation_rate\"] = pd.to_numeric(df[\"inflation_rate\"], errors=\"coerce\")\n",
    "#change type to float\n"
   ]
  },
  {
   "cell_type": "code",
   "execution_count": 154,
   "id": "877adf32",
   "metadata": {},
   "outputs": [],
   "source": [
    "categorical_cols = [\n",
    "    \"country_code\", \"country_name\", \"region\", \"sub_region\", \n",
    "     \"indicator_name\"\n",
    "]\n",
    "\n",
    "df[categorical_cols] = df[categorical_cols].astype(str)  # Ensure all are strings\n",
    "\n",
    "# Remove extra spaces and standardize case\n",
    "df[categorical_cols] = df[categorical_cols].apply(lambda x: x.str.strip().str.title())\n",
    "#Ensure all values are stored as strings\n",
    "#Remove extra spaces\n",
    "#Convert to Title Case (e.g., \"afghanistan\" → \"Afghanistan\")"
   ]
  },
  {
   "cell_type": "code",
   "execution_count": 155,
   "id": "ec63ca98",
   "metadata": {},
   "outputs": [
    {
     "name": "stdout",
     "output_type": "stream",
     "text": [
      "country_code       object\n",
      "country_name       object\n",
      "region             object\n",
      "sub_region         object\n",
      "indicator_name     object\n",
      "year                int32\n",
      "inflation_rate    float64\n",
      "dtype: object\n"
     ]
    }
   ],
   "source": [
    "print(df.dtypes)"
   ]
  },
  {
   "cell_type": "code",
   "execution_count": 156,
   "id": "48d02c78",
   "metadata": {},
   "outputs": [],
   "source": [
    "df[\"country_name\"] = df[\"country_name\"].str.title().str.strip()  # Capitalize & remove spaces\n",
    "df[\"region\"] = df[\"region\"].str.upper()  # Convert to uppercase for uniformity\n",
    "df[\"sub_region\"] = df[\"sub_region\"].str.title().str.strip()  # Capitalize & remove spaces\n",
    "df[\"indicator_name\"] = df[\"indicator_name\"].str.title().str.strip()  # Capitalize & remove spaces\n"
   ]
  },
  {
   "cell_type": "code",
   "execution_count": 157,
   "id": "ea407914",
   "metadata": {},
   "outputs": [
    {
     "name": "stdout",
     "output_type": "stream",
     "text": [
      "\n",
      "Outliers in the 'inflation_rate' column:\n",
      "      country_code country_name  \\\n",
      "48             Afg   Afganistan   \n",
      "96             Alb      Albania   \n",
      "97             Alb      Albania   \n",
      "98             Alb      Albania   \n",
      "101            Alb      Albania   \n",
      "...            ...          ...   \n",
      "13693          Zmb       Zambia   \n",
      "13755          Zwe     Zimbabwe   \n",
      "13756          Zwe     Zimbabwe   \n",
      "13757          Zwe     Zimbabwe   \n",
      "13758          Zwe     Zimbabwe   \n",
      "\n",
      "                                                  region          sub_region  \\\n",
      "48                                       ASIA MERIDIONAL       Southern Asia   \n",
      "96       EUROPA Y ASIA CENTRAL (EXCLUIDO ALTOS INGRESOS)     Southern Europe   \n",
      "97       EUROPA Y ASIA CENTRAL (EXCLUIDO ALTOS INGRESOS)     Southern Europe   \n",
      "98       EUROPA Y ASIA CENTRAL (EXCLUIDO ALTOS INGRESOS)     Southern Europe   \n",
      "101      EUROPA Y ASIA CENTRAL (EXCLUIDO ALTOS INGRESOS)     Southern Europe   \n",
      "...                                                  ...                 ...   \n",
      "13693  ÁFRICA AL SUR DEL SAHARA (EXCLUIDO ALTOS INGRE...  Sub-Saharan Africa   \n",
      "13755  ÁFRICA AL SUR DEL SAHARA (EXCLUIDO ALTOS INGRE...  Sub-Saharan Africa   \n",
      "13756  ÁFRICA AL SUR DEL SAHARA (EXCLUIDO ALTOS INGRE...  Sub-Saharan Africa   \n",
      "13757  ÁFRICA AL SUR DEL SAHARA (EXCLUIDO ALTOS INGRE...  Sub-Saharan Africa   \n",
      "13758  ÁFRICA AL SUR DEL SAHARA (EXCLUIDO ALTOS INGRE...  Sub-Saharan Africa   \n",
      "\n",
      "                                   indicator_name  year  inflation_rate  \n",
      "48     Inflacion, Precios Al Consumidor (% Anual)  2008       26.418664  \n",
      "96     Inflacion, Precios Al Consumidor (% Anual)  1992      226.005421  \n",
      "97     Inflacion, Precios Al Consumidor (% Anual)  1993       85.004751  \n",
      "98     Inflacion, Precios Al Consumidor (% Anual)  1994       22.565053  \n",
      "101    Inflacion, Precios Al Consumidor (% Anual)  1997       33.180274  \n",
      "...                                           ...   ...             ...  \n",
      "13693  Inflacion, Precios Al Consumidor (% Anual)  2021       22.020768  \n",
      "13755  Inflacion, Precios Al Consumidor (% Anual)  2019      255.304991  \n",
      "13756  Inflacion, Precios Al Consumidor (% Anual)  2020      557.201817  \n",
      "13757  Inflacion, Precios Al Consumidor (% Anual)  2021       98.546105  \n",
      "13758  Inflacion, Precios Al Consumidor (% Anual)  2022      104.705171  \n",
      "\n",
      "[1161 rows x 7 columns]\n"
     ]
    }
   ],
   "source": [
    "\n",
    "# Calculate Q1 (25th percentile) and Q3 (75th percentile)\n",
    "Q1 = df['inflation_rate'].quantile(0.25)\n",
    "Q3 = df['inflation_rate'].quantile(0.75)\n",
    "\n",
    "# Calculate the Interquartile Range (IQR)\n",
    "IQR = Q3 - Q1\n",
    "\n",
    "# Define the lower and upper bounds for outliers\n",
    "lower_bound = Q1 - 1.5 * IQR\n",
    "upper_bound = Q3 + 1.5 * IQR\n",
    "\n",
    "# Detect outliers\n",
    "outliers = df[(df['inflation_rate'] < lower_bound) | (df['inflation_rate'] > upper_bound)]\n",
    "\n",
    "# Display the outliers\n",
    "print(\"\\nOutliers in the 'inflation_rate' column:\")\n",
    "print(outliers)"
   ]
  },
  {
   "cell_type": "code",
   "execution_count": 158,
   "id": "b1fd11fb",
   "metadata": {},
   "outputs": [
    {
     "data": {
      "image/png": "[encoded data removed]",
      "text/plain": [
       "<Figure size 640x480 with 1 Axes>"
      ]
     },
     "metadata": {},
     "output_type": "display_data"
    }
   ],
   "source": [
    "#to detect outliers in the 'inflation_rate' column\n",
    "import matplotlib.pyplot as plt\n",
    "\n",
    "plt.boxplot(df[\"inflation_rate\"].dropna())  # Box plot to detect outliers\n",
    "plt.title(\"Inflation Rate Outliers\")\n",
    "plt.show()\n"
   ]
  },
  {
   "cell_type": "code",
   "execution_count": 159,
   "id": "f53f6fe1",
   "metadata": {},
   "outputs": [
    {
     "data": {
      "text/html": [
       "<div>\n",
       "<style scoped>\n",
       "    .dataframe tbody tr th:only-of-type {\n",
       "        vertical-align: middle;\n",
       "    }\n",
       "\n",
       "    .dataframe tbody tr th {\n",
       "        vertical-align: top;\n",
       "    }\n",
       "\n",
       "    .dataframe thead th {\n",
       "        text-align: right;\n",
       "    }\n",
       "</style>\n",
       "<table border=\"1\" class=\"dataframe\">\n",
       "  <thead>\n",
       "    <tr style=\"text-align: right;\">\n",
       "      <th></th>\n",
       "      <th>country_code</th>\n",
       "      <th>country_name</th>\n",
       "      <th>region</th>\n",
       "      <th>sub_region</th>\n",
       "      <th>intermediate_region</th>\n",
       "      <th>indicator_code</th>\n",
       "      <th>indicator_name</th>\n",
       "      <th>year</th>\n",
       "      <th>inflation_rate</th>\n",
       "    </tr>\n",
       "  </thead>\n",
       "  <tbody>\n",
       "    <tr>\n",
       "      <th>3436</th>\n",
       "      <td>DMA</td>\n",
       "      <td>DOMINICA</td>\n",
       "      <td>AMÉRICA LATINA Y EL CARIBE (EXCLUIDO ALTOS ING...</td>\n",
       "      <td>LATIN AMERICA AND THE CARIBBEAN</td>\n",
       "      <td>CARIBBEAN</td>\n",
       "      <td>FP.CPI.TOTL.ZG</td>\n",
       "      <td>INFLACION, PRECIOS AL CONSUMIDOR (% ANUAL)</td>\n",
       "      <td>2004</td>\n",
       "      <td>2.394110</td>\n",
       "    </tr>\n",
       "    <tr>\n",
       "      <th>333</th>\n",
       "      <td>ATG</td>\n",
       "      <td>ANTIGUA Y BARBUDA</td>\n",
       "      <td>NaN</td>\n",
       "      <td>LATIN AMERICA AND THE CARIBBEAN</td>\n",
       "      <td>CARIBBEAN</td>\n",
       "      <td>FP.CPI.TOTL.ZG</td>\n",
       "      <td>INFLACION, PRECIOS AL CONSUMIDOR (% ANUAL)</td>\n",
       "      <td>1973</td>\n",
       "      <td>0.000000</td>\n",
       "    </tr>\n",
       "    <tr>\n",
       "      <th>13427</th>\n",
       "      <td>VUT</td>\n",
       "      <td>VANUATU</td>\n",
       "      <td>ASIA ORIENTAL Y EL PACÍFICO (EXCLUIDO ALTOS IN...</td>\n",
       "      <td>MELANESIA</td>\n",
       "      <td>NaN</td>\n",
       "      <td>FP.CPI.TOTL.ZG</td>\n",
       "      <td>INFLACION, PRECIOS AL CONSUMIDOR (% ANUAL)</td>\n",
       "      <td>2011</td>\n",
       "      <td>0.873793</td>\n",
       "    </tr>\n",
       "    <tr>\n",
       "      <th>719</th>\n",
       "      <td>AUS</td>\n",
       "      <td>AUSTRALIA</td>\n",
       "      <td>NaN</td>\n",
       "      <td>AUSTRALIA AND NEW ZEALAND</td>\n",
       "      <td>NaN</td>\n",
       "      <td>FP.CPI.TOTL.ZG</td>\n",
       "      <td>INFLACION, PRECIOS AL CONSUMIDOR (% ANUAL)</td>\n",
       "      <td>1975</td>\n",
       "      <td>15.162455</td>\n",
       "    </tr>\n",
       "    <tr>\n",
       "      <th>7176</th>\n",
       "      <td>KWT</td>\n",
       "      <td>KUWAIT</td>\n",
       "      <td>NaN</td>\n",
       "      <td>WESTERN ASIA</td>\n",
       "      <td>NaN</td>\n",
       "      <td>FP.CPI.TOTL.ZG</td>\n",
       "      <td>INFLACION, PRECIOS AL CONSUMIDOR (% ANUAL)</td>\n",
       "      <td>1968</td>\n",
       "      <td>0.000000</td>\n",
       "    </tr>\n",
       "  </tbody>\n",
       "</table>\n",
       "</div>"
      ],
      "text/plain": [
       "      country_code       country_name  \\\n",
       "3436           DMA           DOMINICA   \n",
       "333            ATG  ANTIGUA Y BARBUDA   \n",
       "13427          VUT            VANUATU   \n",
       "719            AUS          AUSTRALIA   \n",
       "7176           KWT             KUWAIT   \n",
       "\n",
       "                                                  region  \\\n",
       "3436   AMÉRICA LATINA Y EL CARIBE (EXCLUIDO ALTOS ING...   \n",
       "333                                                  NaN   \n",
       "13427  ASIA ORIENTAL Y EL PACÍFICO (EXCLUIDO ALTOS IN...   \n",
       "719                                                  NaN   \n",
       "7176                                                 NaN   \n",
       "\n",
       "                            sub_region intermediate_region  indicator_code  \\\n",
       "3436   LATIN AMERICA AND THE CARIBBEAN           CARIBBEAN  FP.CPI.TOTL.ZG   \n",
       "333    LATIN AMERICA AND THE CARIBBEAN           CARIBBEAN  FP.CPI.TOTL.ZG   \n",
       "13427                        MELANESIA                 NaN  FP.CPI.TOTL.ZG   \n",
       "719          AUSTRALIA AND NEW ZEALAND                 NaN  FP.CPI.TOTL.ZG   \n",
       "7176                      WESTERN ASIA                 NaN  FP.CPI.TOTL.ZG   \n",
       "\n",
       "                                   indicator_name  year  inflation_rate  \n",
       "3436   INFLACION, PRECIOS AL CONSUMIDOR (% ANUAL)  2004        2.394110  \n",
       "333    INFLACION, PRECIOS AL CONSUMIDOR (% ANUAL)  1973        0.000000  \n",
       "13427  INFLACION, PRECIOS AL CONSUMIDOR (% ANUAL)  2011        0.873793  \n",
       "719    INFLACION, PRECIOS AL CONSUMIDOR (% ANUAL)  1975       15.162455  \n",
       "7176   INFLACION, PRECIOS AL CONSUMIDOR (% ANUAL)  1968        0.000000  "
      ]
     },
     "execution_count": 159,
     "metadata": {},
     "output_type": "execute_result"
    }
   ],
   "source": [
    "df1.sample(5)  # Display a random sample of 15 rows"
   ]
  },
  {
   "cell_type": "code",
   "execution_count": 160,
   "id": "fd973a4a",
   "metadata": {},
   "outputs": [
    {
     "data": {
      "text/plain": [
       "country_code\n",
       "AFG    64\n",
       "MNG    64\n",
       "MOZ    64\n",
       "MMR    64\n",
       "NAM    64\n",
       "       ..\n",
       "GRD    64\n",
       "GRC    64\n",
       "GRL    64\n",
       "GUM    64\n",
       "ZWE    64\n",
       "Name: count, Length: 215, dtype: int64"
      ]
     },
     "execution_count": 160,
     "metadata": {},
     "output_type": "execute_result"
    }
   ],
   "source": [
    "df1[\"country_code\"].value_counts()"
   ]
  },
  {
   "cell_type": "code",
   "execution_count": 161,
   "id": "1de05c1d",
   "metadata": {},
   "outputs": [
    {
     "name": "stdout",
     "output_type": "stream",
     "text": [
      "Requirement already satisfied: pycountry in c:\\users\\49151\\anaconda3\\lib\\site-packages (24.6.1)\n",
      "      country_code country_name  \\\n",
      "0              AFG   AFGANISTAN   \n",
      "1              AFG   AFGANISTAN   \n",
      "2              AFG   AFGANISTAN   \n",
      "3              AFG   AFGANISTAN   \n",
      "4              AFG   AFGANISTAN   \n",
      "...            ...          ...   \n",
      "13755          ZWE     ZIMBABWE   \n",
      "13756          ZWE     ZIMBABWE   \n",
      "13757          ZWE     ZIMBABWE   \n",
      "13758          ZWE     ZIMBABWE   \n",
      "13759          ZWE     ZIMBABWE   \n",
      "\n",
      "                                                  region          sub_region  \\\n",
      "0                                        ASIA MERIDIONAL       SOUTHERN ASIA   \n",
      "1                                        ASIA MERIDIONAL       SOUTHERN ASIA   \n",
      "2                                        ASIA MERIDIONAL       SOUTHERN ASIA   \n",
      "3                                        ASIA MERIDIONAL       SOUTHERN ASIA   \n",
      "4                                        ASIA MERIDIONAL       SOUTHERN ASIA   \n",
      "...                                                  ...                 ...   \n",
      "13755  ÁFRICA AL SUR DEL SAHARA (EXCLUIDO ALTOS INGRE...  SUB-SAHARAN AFRICA   \n",
      "13756  ÁFRICA AL SUR DEL SAHARA (EXCLUIDO ALTOS INGRE...  SUB-SAHARAN AFRICA   \n",
      "13757  ÁFRICA AL SUR DEL SAHARA (EXCLUIDO ALTOS INGRE...  SUB-SAHARAN AFRICA   \n",
      "13758  ÁFRICA AL SUR DEL SAHARA (EXCLUIDO ALTOS INGRE...  SUB-SAHARAN AFRICA   \n",
      "13759  ÁFRICA AL SUR DEL SAHARA (EXCLUIDO ALTOS INGRE...  SUB-SAHARAN AFRICA   \n",
      "\n",
      "      intermediate_region  indicator_code  \\\n",
      "0                     NaN  FP.CPI.TOTL.ZG   \n",
      "1                     NaN  FP.CPI.TOTL.ZG   \n",
      "2                     NaN  FP.CPI.TOTL.ZG   \n",
      "3                     NaN  FP.CPI.TOTL.ZG   \n",
      "4                     NaN  FP.CPI.TOTL.ZG   \n",
      "...                   ...             ...   \n",
      "13755      EASTERN AFRICA  FP.CPI.TOTL.ZG   \n",
      "13756      EASTERN AFRICA  FP.CPI.TOTL.ZG   \n",
      "13757      EASTERN AFRICA  FP.CPI.TOTL.ZG   \n",
      "13758      EASTERN AFRICA  FP.CPI.TOTL.ZG   \n",
      "13759      EASTERN AFRICA  FP.CPI.TOTL.ZG   \n",
      "\n",
      "                                   indicator_name  year  inflation_rate  \\\n",
      "0      INFLACION, PRECIOS AL CONSUMIDOR (% ANUAL)  1960        0.000000   \n",
      "1      INFLACION, PRECIOS AL CONSUMIDOR (% ANUAL)  1961        0.000000   \n",
      "2      INFLACION, PRECIOS AL CONSUMIDOR (% ANUAL)  1962        0.000000   \n",
      "3      INFLACION, PRECIOS AL CONSUMIDOR (% ANUAL)  1963        0.000000   \n",
      "4      INFLACION, PRECIOS AL CONSUMIDOR (% ANUAL)  1964        0.000000   \n",
      "...                                           ...   ...             ...   \n",
      "13755  INFLACION, PRECIOS AL CONSUMIDOR (% ANUAL)  2019      255.304991   \n",
      "13756  INFLACION, PRECIOS AL CONSUMIDOR (% ANUAL)  2020      557.201817   \n",
      "13757  INFLACION, PRECIOS AL CONSUMIDOR (% ANUAL)  2021       98.546105   \n",
      "13758  INFLACION, PRECIOS AL CONSUMIDOR (% ANUAL)  2022      104.705171   \n",
      "13759  INFLACION, PRECIOS AL CONSUMIDOR (% ANUAL)  2023        0.000000   \n",
      "\n",
      "      country_code_fixed  \n",
      "0                     AF  \n",
      "1                     AF  \n",
      "2                     AF  \n",
      "3                     AF  \n",
      "4                     AF  \n",
      "...                  ...  \n",
      "13755                 ZW  \n",
      "13756                 ZW  \n",
      "13757                 ZW  \n",
      "13758                 ZW  \n",
      "13759                 ZW  \n",
      "\n",
      "[13760 rows x 10 columns]\n"
     ]
    }
   ],
   "source": [
    "!pip install pycountry\n",
    "import pycountry\n",
    "\n",
    "# Function to convert to ISO-2 country codes\n",
    "def convert_to_iso2(code):\n",
    "    try:\n",
    "        country = pycountry.countries.lookup(code)\n",
    "        return country.alpha_2  # Convert to ISO-2\n",
    "    except LookupError:\n",
    "        return None  # Handle invalid codes\n",
    "\n",
    "# Apply function\n",
    "df1['country_code_fixed'] = df1['country_code'].apply(convert_to_iso2)\n",
    "\n",
    "print(df1)\n"
   ]
  },
  {
   "cell_type": "code",
   "execution_count": 162,
   "id": "4ee87cf9",
   "metadata": {},
   "outputs": [
    {
     "name": "stdout",
     "output_type": "stream",
     "text": [
      "       country_name country_code region income_group  \\\n",
      "0   INGRESO MEDIANO          MIC    NaN    AGREGADOS   \n",
      "1   INGRESO MEDIANO          MIC    NaN    AGREGADOS   \n",
      "2   INGRESO MEDIANO          MIC    NaN    AGREGADOS   \n",
      "3   INGRESO MEDIANO          MIC    NaN    AGREGADOS   \n",
      "4   INGRESO MEDIANO          MIC    NaN    AGREGADOS   \n",
      "\n",
      "                               indicator_name  indicator_code  year  \\\n",
      "0  INFLACION, PRECIOS AL CONSUMIDOR (% ANUAL)  FP.CPI.TOTL.ZG  1960   \n",
      "1  INFLACION, PRECIOS AL CONSUMIDOR (% ANUAL)  FP.CPI.TOTL.ZG  1961   \n",
      "2  INFLACION, PRECIOS AL CONSUMIDOR (% ANUAL)  FP.CPI.TOTL.ZG  1962   \n",
      "3  INFLACION, PRECIOS AL CONSUMIDOR (% ANUAL)  FP.CPI.TOTL.ZG  1963   \n",
      "4  INFLACION, PRECIOS AL CONSUMIDOR (% ANUAL)  FP.CPI.TOTL.ZG  1964   \n",
      "\n",
      "   inflation_rate  \n",
      "0             0.0  \n",
      "1             0.0  \n",
      "2             0.0  \n",
      "3             0.0  \n",
      "4             0.0  \n"
     ]
    }
   ],
   "source": [
    "import pandas as pd\n",
    "\n",
    "df2 = pd.read_csv(\"global_inflation_organizations.csv\")  \n",
    "print(df2.head()) "
   ]
  },
  {
   "cell_type": "code",
   "execution_count": 163,
   "id": "f83522d9",
   "metadata": {},
   "outputs": [
    {
     "data": {
      "text/plain": [
       "(3264, 8)"
      ]
     },
     "execution_count": 163,
     "metadata": {},
     "output_type": "execute_result"
    }
   ],
   "source": [
    "df2.shape"
   ]
  },
  {
   "cell_type": "code",
   "execution_count": 164,
   "id": "83dd5101",
   "metadata": {},
   "outputs": [
    {
     "data": {
      "text/plain": [
       "Index(['country_name', 'country_code', 'region', 'income_group',\n",
       "       'indicator_name', 'indicator_code', 'year', 'inflation_rate'],\n",
       "      dtype='object')"
      ]
     },
     "execution_count": 164,
     "metadata": {},
     "output_type": "execute_result"
    }
   ],
   "source": [
    "df2.columns"
   ]
  },
  {
   "cell_type": "code",
   "execution_count": 165,
   "id": "98ccc0d4",
   "metadata": {},
   "outputs": [
    {
     "data": {
      "text/plain": [
       "country_name       object\n",
       "country_code       object\n",
       "region             object\n",
       "income_group       object\n",
       "indicator_name     object\n",
       "indicator_code     object\n",
       "year                int64\n",
       "inflation_rate    float64\n",
       "dtype: object"
      ]
     },
     "execution_count": 165,
     "metadata": {},
     "output_type": "execute_result"
    }
   ],
   "source": [
    "df2.dtypes"
   ]
  },
  {
   "cell_type": "code",
   "execution_count": 166,
   "id": "a1317f00",
   "metadata": {},
   "outputs": [
    {
     "name": "stdout",
     "output_type": "stream",
     "text": [
      "country_name       128\n",
      "country_code         0\n",
      "region            3200\n",
      "income_group         0\n",
      "indicator_name       0\n",
      "indicator_code       0\n",
      "year                 0\n",
      "inflation_rate       0\n",
      "dtype: int64\n"
     ]
    }
   ],
   "source": [
    "print(df2.isnull().sum())"
   ]
  },
  {
   "cell_type": "code",
   "execution_count": 167,
   "id": "2a263155",
   "metadata": {},
   "outputs": [],
   "source": [
    "code_to_country = df2[['country_code', 'country_name']].dropna().drop_duplicates().set_index('country_code')['country_name'].to_dict()\n",
    "# Create a dictionary mapping country codes to country names"
   ]
  },
  {
   "cell_type": "code",
   "execution_count": 168,
   "id": "1bbd59ca",
   "metadata": {},
   "outputs": [],
   "source": [
    "df2['country_name'] = df2['country_name'].fillna(df2['country_code'].map(code_to_country))\n",
    "# Fill missing country names using the dictionary"
   ]
  },
  {
   "cell_type": "code",
   "execution_count": 169,
   "id": "4ea5c4c4",
   "metadata": {},
   "outputs": [],
   "source": [
    "region_to_country = df2.groupby('region')['country_name'].agg(lambda x: x.value_counts().index[0])\n"
   ]
  },
  {
   "cell_type": "code",
   "execution_count": 170,
   "id": "c6d0d091",
   "metadata": {},
   "outputs": [],
   "source": [
    "df2['country_name'] = df2['country_name'].fillna(df2['region'].map(region_to_country))\n"
   ]
  },
  {
   "cell_type": "code",
   "execution_count": 171,
   "id": "45bc98bd",
   "metadata": {},
   "outputs": [
    {
     "name": "stdout",
     "output_type": "stream",
     "text": [
      "country_name       128\n",
      "country_code         0\n",
      "region            3200\n",
      "income_group         0\n",
      "indicator_name       0\n",
      "indicator_code       0\n",
      "year                 0\n",
      "inflation_rate       0\n",
      "dtype: int64\n"
     ]
    }
   ],
   "source": [
    "print(df2.isnull().sum())"
   ]
  },
  {
   "cell_type": "code",
   "execution_count": 172,
   "id": "75d960b8",
   "metadata": {},
   "outputs": [
    {
     "name": "stdout",
     "output_type": "stream",
     "text": [
      "Missing values in 'country_name' column: 128\n"
     ]
    }
   ],
   "source": [
    "# Check for missing values in the 'country_name' column\n",
    "missing_values_count = df2['country_name'].isnull().sum()\n",
    "print(f\"Missing values in 'country_name' column: {missing_values_count}\")"
   ]
  },
  {
   "cell_type": "code",
   "execution_count": 173,
   "id": "fd3933f3",
   "metadata": {},
   "outputs": [],
   "source": [
    "#Since df2[\"country_name\"] contains world organizations instead of country names, let's rename it\n",
    "df2.rename(columns={\"country_name\": \"global_organization\", \"country_code\": \"organization_code\"}, inplace=True)\n"
   ]
  },
  {
   "cell_type": "code",
   "execution_count": 175,
   "id": "27d219ce",
   "metadata": {},
   "outputs": [
    {
     "name": "stdout",
     "output_type": "stream",
     "text": [
      "  region_or_indicator region_code region income_group  \\\n",
      "0     Ingreso Mediano         MIC    NaN    AGREGADOS   \n",
      "1     Ingreso Mediano         MIC    NaN    AGREGADOS   \n",
      "2     Ingreso Mediano         MIC    NaN    AGREGADOS   \n",
      "3     Ingreso Mediano         MIC    NaN    AGREGADOS   \n",
      "4     Ingreso Mediano         MIC    NaN    AGREGADOS   \n",
      "\n",
      "                               indicator_name  indicator_code  year  \\\n",
      "0  Inflacion, Precios Al Consumidor (% Anual)  FP.CPI.TOTL.ZG  1960   \n",
      "1  Inflacion, Precios Al Consumidor (% Anual)  FP.CPI.TOTL.ZG  1961   \n",
      "2  Inflacion, Precios Al Consumidor (% Anual)  FP.CPI.TOTL.ZG  1962   \n",
      "3  Inflacion, Precios Al Consumidor (% Anual)  FP.CPI.TOTL.ZG  1963   \n",
      "4  Inflacion, Precios Al Consumidor (% Anual)  FP.CPI.TOTL.ZG  1964   \n",
      "\n",
      "   inflation_rate  \n",
      "0             0.0  \n",
      "1             0.0  \n",
      "2             0.0  \n",
      "3             0.0  \n",
      "4             0.0  \n",
      "(3264, 8)\n"
     ]
    }
   ],
   "source": [
    "print(df_countries.head()) \n",
    "print(df_countries.shape)  \n"
   ]
  },
  {
   "cell_type": "code",
   "execution_count": 177,
   "id": "7fb9dfcf",
   "metadata": {},
   "outputs": [
    {
     "name": "stdout",
     "output_type": "stream",
     "text": [
      "Index(['country_code', 'country_name', 'region', 'sub_region',\n",
      "       'intermediate_region', 'indicator_code', 'indicator_name', 'year',\n",
      "       'inflation_rate', 'country_code_fixed'],\n",
      "      dtype='object')\n",
      "Index(['global_organization', 'organization_code', 'region', 'income_group',\n",
      "       'indicator_name', 'indicator_code', 'year', 'inflation_rate'],\n",
      "      dtype='object')\n"
     ]
    }
   ],
   "source": [
    "print(df1.columns)  # Columns in first dataset\n",
    "print(df2.columns)  # Columns in second dataset"
   ]
  },
  {
   "cell_type": "code",
   "execution_count": 178,
   "id": "fccdaf1b",
   "metadata": {},
   "outputs": [],
   "source": [
    "df1[\"year\"] = df1[\"year\"].astype(int)\n",
    "df2[\"year\"] = df2[\"year\"].astype(int)\n"
   ]
  },
  {
   "cell_type": "code",
   "execution_count": 185,
   "id": "cde2db15",
   "metadata": {},
   "outputs": [
    {
     "data": {
      "text/plain": [
       "region\n",
       "ÁFRICA AL SUR DEL SAHARA (EXCLUIDO ALTOS INGRESOS)           3008\n",
       "AMÉRICA LATINA Y EL CARIBE (EXCLUIDO ALTOS INGRESOS)         1472\n",
       "ASIA ORIENTAL Y EL PACÍFICO (EXCLUIDO ALTOS INGRESOS)        1408\n",
       "EUROPA Y ASIA CENTRAL (EXCLUIDO ALTOS INGRESOS)              1088\n",
       "ORIENTE MEDIO Y NORTE DE ÁFRICA (EXCLUIDO ALTOS INGRESOS)     832\n",
       "ASIA MERIDIONAL                                               512\n",
       "Name: count, dtype: int64"
      ]
     },
     "execution_count": 185,
     "metadata": {},
     "output_type": "execute_result"
    }
   ],
   "source": [
    "df1[\"region\"].value_counts()"
   ]
  },
  {
   "cell_type": "code",
   "execution_count": 186,
   "id": "3db6cbf9",
   "metadata": {},
   "outputs": [
    {
     "data": {
      "text/plain": [
       "region\n",
       "EUROPA Y ASIA CENTRAL (EXCLUIDO ALTOS INGRESOS)    64\n",
       "Name: count, dtype: int64"
      ]
     },
     "execution_count": 186,
     "metadata": {},
     "output_type": "execute_result"
    }
   ],
   "source": [
    "df2[\"region\"].value_counts()"
   ]
  },
  {
   "cell_type": "code",
   "execution_count": 190,
   "id": "1bce1b92",
   "metadata": {},
   "outputs": [],
   "source": [
    "df1.drop(columns=['intermediate_region'], inplace=True)"
   ]
  },
  {
   "cell_type": "code",
   "execution_count": 193,
   "id": "d600af67",
   "metadata": {},
   "outputs": [
    {
     "data": {
      "text/plain": [
       "indicator_name\n",
       "INFLACION, PRECIOS AL CONSUMIDOR (% ANUAL)    13760\n",
       "Name: count, dtype: int64"
      ]
     },
     "execution_count": 193,
     "metadata": {},
     "output_type": "execute_result"
    }
   ],
   "source": [
    "df1[\"indicator_name\"].value_counts()\n"
   ]
  },
  {
   "cell_type": "code",
   "execution_count": 195,
   "id": "aec017c0",
   "metadata": {},
   "outputs": [
    {
     "data": {
      "text/plain": [
       "indicator_name\n",
       "INFLACION, PRECIOS AL CONSUMIDOR (% ANUAL)    3264\n",
       "Name: count, dtype: int64"
      ]
     },
     "execution_count": 195,
     "metadata": {},
     "output_type": "execute_result"
    }
   ],
   "source": [
    "\n",
    "df2[\"indicator_name\"].value_counts()"
   ]
  },
  {
   "cell_type": "code",
   "execution_count": 200,
   "id": "e36e44a1",
   "metadata": {},
   "outputs": [],
   "source": [
    "df1.drop(columns=[\"indicator_name\"], inplace=True)\n",
    "df2.drop(columns=[\"indicator_name\"], inplace=True)\n"
   ]
  },
  {
   "cell_type": "code",
   "execution_count": 201,
   "id": "9bacd819",
   "metadata": {},
   "outputs": [
    {
     "data": {
      "text/plain": [
       "indicator_code\n",
       "FP.CPI.TOTL.ZG    13760\n",
       "Name: count, dtype: int64"
      ]
     },
     "execution_count": 201,
     "metadata": {},
     "output_type": "execute_result"
    }
   ],
   "source": [
    "df1[\"indicator_code\"].value_counts()"
   ]
  },
  {
   "cell_type": "code",
   "execution_count": 202,
   "id": "4dc2a20e",
   "metadata": {},
   "outputs": [
    {
     "data": {
      "text/plain": [
       "indicator_code\n",
       "FP.CPI.TOTL.ZG    3264\n",
       "Name: count, dtype: int64"
      ]
     },
     "execution_count": 202,
     "metadata": {},
     "output_type": "execute_result"
    }
   ],
   "source": [
    "df2[\"indicator_code\"].value_counts()"
   ]
  },
  {
   "cell_type": "code",
   "execution_count": 203,
   "id": "942d9ea4",
   "metadata": {},
   "outputs": [],
   "source": [
    "df1.drop(columns=[\"indicator_code\"], inplace=True)\n",
    "df2.drop(columns=[\"indicator_code\"], inplace=True)\n"
   ]
  },
  {
   "cell_type": "code",
   "execution_count": 207,
   "id": "4fcb956a",
   "metadata": {},
   "outputs": [
    {
     "data": {
      "text/plain": [
       "array([1960, 1961, 1962, 1963, 1964, 1965, 1966, 1967, 1968, 1969, 1970,\n",
       "       1971, 1972, 1973, 1974, 1975, 1976, 1977, 1978, 1979, 1980, 1981,\n",
       "       1982, 1983, 1984, 1985, 1986, 1987, 1988, 1989, 1990, 1991, 1992,\n",
       "       1993, 1994, 1995, 1996, 1997, 1998, 1999, 2000, 2001, 2002, 2003,\n",
       "       2004, 2005, 2006, 2007, 2008, 2009, 2010, 2011, 2012, 2013, 2014,\n",
       "       2015, 2016, 2017, 2018, 2019, 2020, 2021, 2022, 2023])"
      ]
     },
     "execution_count": 207,
     "metadata": {},
     "output_type": "execute_result"
    }
   ],
   "source": [
    "df1[\"year\"].unique()"
   ]
  },
  {
   "cell_type": "code",
   "execution_count": 208,
   "id": "ff82386d",
   "metadata": {},
   "outputs": [
    {
     "data": {
      "text/plain": [
       "year\n",
       "1960    215\n",
       "1961    215\n",
       "1994    215\n",
       "1995    215\n",
       "1996    215\n",
       "       ... \n",
       "1986    215\n",
       "1987    215\n",
       "1988    215\n",
       "1989    215\n",
       "2023    215\n",
       "Name: count, Length: 64, dtype: int64"
      ]
     },
     "execution_count": 208,
     "metadata": {},
     "output_type": "execute_result"
    }
   ],
   "source": [
    "df1[\"year\"].value_counts()"
   ]
  },
  {
   "cell_type": "code",
   "execution_count": null,
   "id": "4572212d",
   "metadata": {},
   "outputs": [
    {
     "data": {
      "text/plain": [
       "64"
      ]
     },
     "execution_count": 209,
     "metadata": {},
     "output_type": "execute_result"
    }
   ],
   "source": [
    "df1[\"year\"].nunique()"
   ]
  },
  {
   "cell_type": "code",
   "execution_count": 210,
   "id": "08f1ee95",
   "metadata": {},
   "outputs": [
    {
     "data": {
      "text/plain": [
       "array([1960, 1961, 1962, 1963, 1964, 1965, 1966, 1967, 1968, 1969, 1970,\n",
       "       1971, 1972, 1973, 1974, 1975, 1976, 1977, 1978, 1979, 1980, 1981,\n",
       "       1982, 1983, 1984, 1985, 1986, 1987, 1988, 1989, 1990, 1991, 1992,\n",
       "       1993, 1994, 1995, 1996, 1997, 1998, 1999, 2000, 2001, 2002, 2003,\n",
       "       2004, 2005, 2006, 2007, 2008, 2009, 2010, 2011, 2012, 2013, 2014,\n",
       "       2015, 2016, 2017, 2018, 2019, 2020, 2021, 2022, 2023])"
      ]
     },
     "execution_count": 210,
     "metadata": {},
     "output_type": "execute_result"
    }
   ],
   "source": [
    "df2[\"year\"].unique()"
   ]
  },
  {
   "cell_type": "code",
   "execution_count": 205,
   "id": "0964e113",
   "metadata": {},
   "outputs": [
    {
     "data": {
      "text/plain": [
       "year\n",
       "1960    51\n",
       "1961    51\n",
       "1994    51\n",
       "1995    51\n",
       "1996    51\n",
       "        ..\n",
       "1986    51\n",
       "1987    51\n",
       "1988    51\n",
       "1989    51\n",
       "2023    51\n",
       "Name: count, Length: 64, dtype: int64"
      ]
     },
     "execution_count": 205,
     "metadata": {},
     "output_type": "execute_result"
    }
   ],
   "source": [
    "df2[\"year\"].value_counts()"
   ]
  },
  {
   "cell_type": "code",
   "execution_count": 211,
   "id": "d9081608",
   "metadata": {},
   "outputs": [
    {
     "data": {
      "text/plain": [
       "64"
      ]
     },
     "execution_count": 211,
     "metadata": {},
     "output_type": "execute_result"
    }
   ],
   "source": [
    "df2[\"year\"].nunique()"
   ]
  },
  {
   "cell_type": "code",
   "execution_count": null,
   "id": "c6075c4e",
   "metadata": {},
   "outputs": [],
   "source": []
  }
 ],
 "metadata": {
  "kernelspec": {
   "display_name": "base",
   "language": "python",
   "name": "python3"
  },
  "language_info": {
   "codemirror_mode": {
    "name": "ipython",
    "version": 3
   },
   "file_extension": ".py",
   "mimetype": "text/x-python",
   "name": "python",
   "nbconvert_exporter": "python",
   "pygments_lexer": "ipython3",
   "version": "3.12.7"
  }
 },
 "nbformat": 4,
 "nbformat_minor": 5
}
