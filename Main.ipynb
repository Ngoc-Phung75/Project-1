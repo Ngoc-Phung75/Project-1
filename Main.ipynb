{
 "cells": [
  {
   "cell_type": "code",
   "execution_count": 4,
   "id": "aff21a41",
   "metadata": {},
   "outputs": [
    {
     "data": {
      "text/html": [
       "<div>\n",
       "<style scoped>\n",
       "    .dataframe tbody tr th:only-of-type {\n",
       "        vertical-align: middle;\n",
       "    }\n",
       "\n",
       "    .dataframe tbody tr th {\n",
       "        vertical-align: top;\n",
       "    }\n",
       "\n",
       "    .dataframe thead th {\n",
       "        text-align: right;\n",
       "    }\n",
       "</style>\n",
       "<table border=\"1\" class=\"dataframe\">\n",
       "  <thead>\n",
       "    <tr style=\"text-align: right;\">\n",
       "      <th></th>\n",
       "      <th>country_code</th>\n",
       "      <th>country_name</th>\n",
       "      <th>region</th>\n",
       "      <th>sub_region</th>\n",
       "      <th>intermediate_region</th>\n",
       "      <th>indicator_code</th>\n",
       "      <th>indicator_name</th>\n",
       "      <th>year</th>\n",
       "      <th>inflation_rate</th>\n",
       "    </tr>\n",
       "  </thead>\n",
       "  <tbody>\n",
       "    <tr>\n",
       "      <th>0</th>\n",
       "      <td>AFG</td>\n",
       "      <td>AFGANISTAN</td>\n",
       "      <td>ASIA MERIDIONAL</td>\n",
       "      <td>SOUTHERN ASIA</td>\n",
       "      <td>NaN</td>\n",
       "      <td>FP.CPI.TOTL.ZG</td>\n",
       "      <td>INFLACION, PRECIOS AL CONSUMIDOR (% ANUAL)</td>\n",
       "      <td>1960</td>\n",
       "      <td>0.0</td>\n",
       "    </tr>\n",
       "    <tr>\n",
       "      <th>1</th>\n",
       "      <td>AFG</td>\n",
       "      <td>AFGANISTAN</td>\n",
       "      <td>ASIA MERIDIONAL</td>\n",
       "      <td>SOUTHERN ASIA</td>\n",
       "      <td>NaN</td>\n",
       "      <td>FP.CPI.TOTL.ZG</td>\n",
       "      <td>INFLACION, PRECIOS AL CONSUMIDOR (% ANUAL)</td>\n",
       "      <td>1961</td>\n",
       "      <td>0.0</td>\n",
       "    </tr>\n",
       "    <tr>\n",
       "      <th>2</th>\n",
       "      <td>AFG</td>\n",
       "      <td>AFGANISTAN</td>\n",
       "      <td>ASIA MERIDIONAL</td>\n",
       "      <td>SOUTHERN ASIA</td>\n",
       "      <td>NaN</td>\n",
       "      <td>FP.CPI.TOTL.ZG</td>\n",
       "      <td>INFLACION, PRECIOS AL CONSUMIDOR (% ANUAL)</td>\n",
       "      <td>1962</td>\n",
       "      <td>0.0</td>\n",
       "    </tr>\n",
       "    <tr>\n",
       "      <th>3</th>\n",
       "      <td>AFG</td>\n",
       "      <td>AFGANISTAN</td>\n",
       "      <td>ASIA MERIDIONAL</td>\n",
       "      <td>SOUTHERN ASIA</td>\n",
       "      <td>NaN</td>\n",
       "      <td>FP.CPI.TOTL.ZG</td>\n",
       "      <td>INFLACION, PRECIOS AL CONSUMIDOR (% ANUAL)</td>\n",
       "      <td>1963</td>\n",
       "      <td>0.0</td>\n",
       "    </tr>\n",
       "    <tr>\n",
       "      <th>4</th>\n",
       "      <td>AFG</td>\n",
       "      <td>AFGANISTAN</td>\n",
       "      <td>ASIA MERIDIONAL</td>\n",
       "      <td>SOUTHERN ASIA</td>\n",
       "      <td>NaN</td>\n",
       "      <td>FP.CPI.TOTL.ZG</td>\n",
       "      <td>INFLACION, PRECIOS AL CONSUMIDOR (% ANUAL)</td>\n",
       "      <td>1964</td>\n",
       "      <td>0.0</td>\n",
       "    </tr>\n",
       "  </tbody>\n",
       "</table>\n",
       "</div>"
      ],
      "text/plain": [
       "  country_code country_name           region     sub_region  \\\n",
       "0          AFG   AFGANISTAN  ASIA MERIDIONAL  SOUTHERN ASIA   \n",
       "1          AFG   AFGANISTAN  ASIA MERIDIONAL  SOUTHERN ASIA   \n",
       "2          AFG   AFGANISTAN  ASIA MERIDIONAL  SOUTHERN ASIA   \n",
       "3          AFG   AFGANISTAN  ASIA MERIDIONAL  SOUTHERN ASIA   \n",
       "4          AFG   AFGANISTAN  ASIA MERIDIONAL  SOUTHERN ASIA   \n",
       "\n",
       "  intermediate_region  indicator_code  \\\n",
       "0                 NaN  FP.CPI.TOTL.ZG   \n",
       "1                 NaN  FP.CPI.TOTL.ZG   \n",
       "2                 NaN  FP.CPI.TOTL.ZG   \n",
       "3                 NaN  FP.CPI.TOTL.ZG   \n",
       "4                 NaN  FP.CPI.TOTL.ZG   \n",
       "\n",
       "                               indicator_name  year  inflation_rate  \n",
       "0  INFLACION, PRECIOS AL CONSUMIDOR (% ANUAL)  1960             0.0  \n",
       "1  INFLACION, PRECIOS AL CONSUMIDOR (% ANUAL)  1961             0.0  \n",
       "2  INFLACION, PRECIOS AL CONSUMIDOR (% ANUAL)  1962             0.0  \n",
       "3  INFLACION, PRECIOS AL CONSUMIDOR (% ANUAL)  1963             0.0  \n",
       "4  INFLACION, PRECIOS AL CONSUMIDOR (% ANUAL)  1964             0.0  "
      ]
     },
     "execution_count": 4,
     "metadata": {},
     "output_type": "execute_result"
    }
   ],
   "source": [
    "import pandas as pd\n",
    "\n",
    "df = pd.read_csv(\"global_inflation_countries.csv\")  \n",
    "df.head()\n"
   ]
  },
  {
   "cell_type": "code",
   "execution_count": 5,
   "id": "449bd848",
   "metadata": {},
   "outputs": [],
   "source": [
    "df[\"year\"] = pd.to_datetime(df[\"year\"], format='%Y')   # Convert the 'year' column to datetime format  "
   ]
  },
  {
   "cell_type": "code",
   "execution_count": 8,
   "id": "599c3628",
   "metadata": {},
   "outputs": [
    {
     "name": "stdout",
     "output_type": "stream",
     "text": [
      "Index(['country_code', 'country_name', 'region', 'sub_region', 'year',\n",
      "       'inflation_rate'],\n",
      "      dtype='object')\n"
     ]
    }
   ],
   "source": [
    "print(df.columns)"
   ]
  },
  {
   "cell_type": "code",
   "execution_count": 9,
   "id": "38df511d",
   "metadata": {},
   "outputs": [
    {
     "data": {
      "text/plain": [
       "country_code              object\n",
       "country_name              object\n",
       "region                    object\n",
       "sub_region                object\n",
       "year              datetime64[ns]\n",
       "inflation_rate           float64\n",
       "dtype: object"
      ]
     },
     "execution_count": 9,
     "metadata": {},
     "output_type": "execute_result"
    }
   ],
   "source": [
    "df.dtypes"
   ]
  },
  {
   "cell_type": "code",
   "execution_count": 10,
   "id": "e64224b1",
   "metadata": {},
   "outputs": [
    {
     "name": "stdout",
     "output_type": "stream",
     "text": [
      "country_code         0\n",
      "country_name         0\n",
      "region            5440\n",
      "sub_region           0\n",
      "year                 0\n",
      "inflation_rate       0\n",
      "dtype: int64\n"
     ]
    }
   ],
   "source": [
    "print(df.isnull().sum())"
   ]
  },
  {
   "cell_type": "code",
   "execution_count": 11,
   "id": "3461a3c9",
   "metadata": {},
   "outputs": [],
   "source": [
    "# Fill missing values in 'region' column with the mode of the 'sub_region' column\n",
    "df[\"region\"] = df.groupby(\"sub_region\")[\"region\"].transform(lambda x: x.fillna(x.mode()[0]) if not x.mode().empty else x)\n"
   ]
  },
  {
   "cell_type": "code",
   "execution_count": 12,
   "id": "dfb257a3",
   "metadata": {},
   "outputs": [
    {
     "name": "stdout",
     "output_type": "stream",
     "text": [
      "country_code         0\n",
      "country_name         0\n",
      "region            1728\n",
      "sub_region           0\n",
      "year                 0\n",
      "inflation_rate       0\n",
      "dtype: int64\n"
     ]
    }
   ],
   "source": [
    "print(df.isnull().sum())"
   ]
  },
  {
   "cell_type": "code",
   "execution_count": 13,
   "id": "722ca6f3",
   "metadata": {},
   "outputs": [
    {
     "name": "stdout",
     "output_type": "stream",
     "text": [
      "Sub-regions with missing regions: ['WESTERN EUROPE' 'AUSTRALIA AND NEW ZEALAND' 'NORTHERN AMERICA'\n",
      " 'NORTHERN EUROPE']\n"
     ]
    }
   ],
   "source": [
    "missing_regions = df[df[\"region\"].isnull()][\"sub_region\"].unique()\n",
    "print(\"Sub-regions with missing regions:\", missing_regions)\n"
   ]
  },
  {
   "cell_type": "code",
   "execution_count": 14,
   "id": "0c3c73a5",
   "metadata": {},
   "outputs": [],
   "source": [
    "sub_region_to_region = {\n",
    "    \"WESTERN EUROPE\": \"EUROPE\",\n",
    "    \"AUSTRALIA AND NEW ZEALAND\": \"OCEANIA\",\n",
    "    \"NORTHERN AMERICA\": \"AMERICAS\",\n",
    "    \"NORTHERN EUROPE\": \"EUROPE\"\n",
    "}\n",
    "df[\"region\"] = df[\"region\"].fillna(df[\"sub_region\"].map(sub_region_to_region))\n"
   ]
  },
  {
   "cell_type": "code",
   "execution_count": 15,
   "id": "b2b30857",
   "metadata": {},
   "outputs": [
    {
     "name": "stdout",
     "output_type": "stream",
     "text": [
      "country_code      0\n",
      "country_name      0\n",
      "region            0\n",
      "sub_region        0\n",
      "year              0\n",
      "inflation_rate    0\n",
      "dtype: int64\n"
     ]
    }
   ],
   "source": [
    "print(df.isnull().sum())"
   ]
  },
  {
   "cell_type": "code",
   "execution_count": 16,
   "id": "db399c4b",
   "metadata": {},
   "outputs": [
    {
     "name": "stdout",
     "output_type": "stream",
     "text": [
      "Duplicate rows: 0\n"
     ]
    }
   ],
   "source": [
    "print(f\"Duplicate rows: {df.duplicated().sum()}\")  # Count duplicate rows\n"
   ]
  },
  {
   "cell_type": "code",
   "execution_count": 17,
   "id": "fbde1dd7",
   "metadata": {},
   "outputs": [],
   "source": [
    "\n",
    "# Remove duplicates if any\n",
    "df.drop_duplicates(inplace=True)\n"
   ]
  },
  {
   "cell_type": "code",
   "execution_count": 19,
   "id": "877adf32",
   "metadata": {},
   "outputs": [],
   "source": [
    "categorical_cols = [\n",
    "    \"country_code\", \"country_name\", \"region\", \"sub_region\", \n",
    "     \n",
    "]\n",
    "\n",
    "df[categorical_cols] = df[categorical_cols].astype(str)  # Ensure all are strings\n",
    "\n",
    "# Remove extra spaces and standardize case\n",
    "df[categorical_cols] = df[categorical_cols].apply(lambda x: x.str.strip().str.title())\n",
    "#Ensure all values are stored as strings\n",
    "#Remove extra spaces\n",
    "#Convert to Title Case (e.g., \"afghanistan\" → \"Afghanistan\")"
   ]
  },
  {
   "cell_type": "code",
   "execution_count": 20,
   "id": "48d02c78",
   "metadata": {},
   "outputs": [],
   "source": [
    "df[\"country_name\"] = df[\"country_name\"].str.title().str.strip()  # Capitalize & remove spaces\n",
    "df[\"region\"] = df[\"region\"].str.upper()  # Convert to uppercase for uniformity\n",
    "df[\"sub_region\"] = df[\"sub_region\"].str.title().str.strip()  # Capitalize & remove spaces\n",
    "\n"
   ]
  },
  {
   "cell_type": "code",
   "execution_count": 23,
   "id": "ea407914",
   "metadata": {},
   "outputs": [
    {
     "name": "stdout",
     "output_type": "stream",
     "text": [
      "\n",
      "Outliers in the 'inflation_rate' column:\n"
     ]
    },
    {
     "data": {
      "text/html": [
       "<div>\n",
       "<style scoped>\n",
       "    .dataframe tbody tr th:only-of-type {\n",
       "        vertical-align: middle;\n",
       "    }\n",
       "\n",
       "    .dataframe tbody tr th {\n",
       "        vertical-align: top;\n",
       "    }\n",
       "\n",
       "    .dataframe thead th {\n",
       "        text-align: right;\n",
       "    }\n",
       "</style>\n",
       "<table border=\"1\" class=\"dataframe\">\n",
       "  <thead>\n",
       "    <tr style=\"text-align: right;\">\n",
       "      <th></th>\n",
       "      <th>country_code</th>\n",
       "      <th>country_name</th>\n",
       "      <th>region</th>\n",
       "      <th>sub_region</th>\n",
       "      <th>year</th>\n",
       "      <th>inflation_rate</th>\n",
       "    </tr>\n",
       "  </thead>\n",
       "  <tbody>\n",
       "    <tr>\n",
       "      <th>48</th>\n",
       "      <td>Afg</td>\n",
       "      <td>Afganistan</td>\n",
       "      <td>ASIA MERIDIONAL</td>\n",
       "      <td>Southern Asia</td>\n",
       "      <td>2008-01-01</td>\n",
       "      <td>26.418664</td>\n",
       "    </tr>\n",
       "    <tr>\n",
       "      <th>96</th>\n",
       "      <td>Alb</td>\n",
       "      <td>Albania</td>\n",
       "      <td>EUROPA Y ASIA CENTRAL (EXCLUIDO ALTOS INGRESOS)</td>\n",
       "      <td>Southern Europe</td>\n",
       "      <td>1992-01-01</td>\n",
       "      <td>226.005421</td>\n",
       "    </tr>\n",
       "    <tr>\n",
       "      <th>97</th>\n",
       "      <td>Alb</td>\n",
       "      <td>Albania</td>\n",
       "      <td>EUROPA Y ASIA CENTRAL (EXCLUIDO ALTOS INGRESOS)</td>\n",
       "      <td>Southern Europe</td>\n",
       "      <td>1993-01-01</td>\n",
       "      <td>85.004751</td>\n",
       "    </tr>\n",
       "    <tr>\n",
       "      <th>98</th>\n",
       "      <td>Alb</td>\n",
       "      <td>Albania</td>\n",
       "      <td>EUROPA Y ASIA CENTRAL (EXCLUIDO ALTOS INGRESOS)</td>\n",
       "      <td>Southern Europe</td>\n",
       "      <td>1994-01-01</td>\n",
       "      <td>22.565053</td>\n",
       "    </tr>\n",
       "    <tr>\n",
       "      <th>101</th>\n",
       "      <td>Alb</td>\n",
       "      <td>Albania</td>\n",
       "      <td>EUROPA Y ASIA CENTRAL (EXCLUIDO ALTOS INGRESOS)</td>\n",
       "      <td>Southern Europe</td>\n",
       "      <td>1997-01-01</td>\n",
       "      <td>33.180274</td>\n",
       "    </tr>\n",
       "    <tr>\n",
       "      <th>...</th>\n",
       "      <td>...</td>\n",
       "      <td>...</td>\n",
       "      <td>...</td>\n",
       "      <td>...</td>\n",
       "      <td>...</td>\n",
       "      <td>...</td>\n",
       "    </tr>\n",
       "    <tr>\n",
       "      <th>13693</th>\n",
       "      <td>Zmb</td>\n",
       "      <td>Zambia</td>\n",
       "      <td>ÁFRICA AL SUR DEL SAHARA (EXCLUIDO ALTOS INGRE...</td>\n",
       "      <td>Sub-Saharan Africa</td>\n",
       "      <td>2021-01-01</td>\n",
       "      <td>22.020768</td>\n",
       "    </tr>\n",
       "    <tr>\n",
       "      <th>13755</th>\n",
       "      <td>Zwe</td>\n",
       "      <td>Zimbabwe</td>\n",
       "      <td>ÁFRICA AL SUR DEL SAHARA (EXCLUIDO ALTOS INGRE...</td>\n",
       "      <td>Sub-Saharan Africa</td>\n",
       "      <td>2019-01-01</td>\n",
       "      <td>255.304991</td>\n",
       "    </tr>\n",
       "    <tr>\n",
       "      <th>13756</th>\n",
       "      <td>Zwe</td>\n",
       "      <td>Zimbabwe</td>\n",
       "      <td>ÁFRICA AL SUR DEL SAHARA (EXCLUIDO ALTOS INGRE...</td>\n",
       "      <td>Sub-Saharan Africa</td>\n",
       "      <td>2020-01-01</td>\n",
       "      <td>557.201817</td>\n",
       "    </tr>\n",
       "    <tr>\n",
       "      <th>13757</th>\n",
       "      <td>Zwe</td>\n",
       "      <td>Zimbabwe</td>\n",
       "      <td>ÁFRICA AL SUR DEL SAHARA (EXCLUIDO ALTOS INGRE...</td>\n",
       "      <td>Sub-Saharan Africa</td>\n",
       "      <td>2021-01-01</td>\n",
       "      <td>98.546105</td>\n",
       "    </tr>\n",
       "    <tr>\n",
       "      <th>13758</th>\n",
       "      <td>Zwe</td>\n",
       "      <td>Zimbabwe</td>\n",
       "      <td>ÁFRICA AL SUR DEL SAHARA (EXCLUIDO ALTOS INGRE...</td>\n",
       "      <td>Sub-Saharan Africa</td>\n",
       "      <td>2022-01-01</td>\n",
       "      <td>104.705171</td>\n",
       "    </tr>\n",
       "  </tbody>\n",
       "</table>\n",
       "<p>1161 rows × 6 columns</p>\n",
       "</div>"
      ],
      "text/plain": [
       "      country_code country_name  \\\n",
       "48             Afg   Afganistan   \n",
       "96             Alb      Albania   \n",
       "97             Alb      Albania   \n",
       "98             Alb      Albania   \n",
       "101            Alb      Albania   \n",
       "...            ...          ...   \n",
       "13693          Zmb       Zambia   \n",
       "13755          Zwe     Zimbabwe   \n",
       "13756          Zwe     Zimbabwe   \n",
       "13757          Zwe     Zimbabwe   \n",
       "13758          Zwe     Zimbabwe   \n",
       "\n",
       "                                                  region          sub_region  \\\n",
       "48                                       ASIA MERIDIONAL       Southern Asia   \n",
       "96       EUROPA Y ASIA CENTRAL (EXCLUIDO ALTOS INGRESOS)     Southern Europe   \n",
       "97       EUROPA Y ASIA CENTRAL (EXCLUIDO ALTOS INGRESOS)     Southern Europe   \n",
       "98       EUROPA Y ASIA CENTRAL (EXCLUIDO ALTOS INGRESOS)     Southern Europe   \n",
       "101      EUROPA Y ASIA CENTRAL (EXCLUIDO ALTOS INGRESOS)     Southern Europe   \n",
       "...                                                  ...                 ...   \n",
       "13693  ÁFRICA AL SUR DEL SAHARA (EXCLUIDO ALTOS INGRE...  Sub-Saharan Africa   \n",
       "13755  ÁFRICA AL SUR DEL SAHARA (EXCLUIDO ALTOS INGRE...  Sub-Saharan Africa   \n",
       "13756  ÁFRICA AL SUR DEL SAHARA (EXCLUIDO ALTOS INGRE...  Sub-Saharan Africa   \n",
       "13757  ÁFRICA AL SUR DEL SAHARA (EXCLUIDO ALTOS INGRE...  Sub-Saharan Africa   \n",
       "13758  ÁFRICA AL SUR DEL SAHARA (EXCLUIDO ALTOS INGRE...  Sub-Saharan Africa   \n",
       "\n",
       "            year  inflation_rate  \n",
       "48    2008-01-01       26.418664  \n",
       "96    1992-01-01      226.005421  \n",
       "97    1993-01-01       85.004751  \n",
       "98    1994-01-01       22.565053  \n",
       "101   1997-01-01       33.180274  \n",
       "...          ...             ...  \n",
       "13693 2021-01-01       22.020768  \n",
       "13755 2019-01-01      255.304991  \n",
       "13756 2020-01-01      557.201817  \n",
       "13757 2021-01-01       98.546105  \n",
       "13758 2022-01-01      104.705171  \n",
       "\n",
       "[1161 rows x 6 columns]"
      ]
     },
     "execution_count": 23,
     "metadata": {},
     "output_type": "execute_result"
    }
   ],
   "source": [
    "\n",
    "# Calculate Q1 (25th percentile) and Q3 (75th percentile)\n",
    "Q1 = df['inflation_rate'].quantile(0.25)\n",
    "Q3 = df['inflation_rate'].quantile(0.75)\n",
    "\n",
    "# Calculate the Interquartile Range (IQR)\n",
    "IQR = Q3 - Q1\n",
    "\n",
    "# Define the lower and upper bounds for outliers\n",
    "lower_bound = Q1 - 1.5 * IQR\n",
    "upper_bound = Q3 + 1.5 * IQR\n",
    "\n",
    "# Detect outliers\n",
    "outliers = df[(df['inflation_rate'] < lower_bound) | (df['inflation_rate'] > upper_bound)]\n",
    "\n",
    "# Display the outliers\n",
    "print(\"\\nOutliers in the 'inflation_rate' column:\")\n",
    "outliers"
   ]
  },
  {
   "cell_type": "code",
   "execution_count": 24,
   "id": "b1fd11fb",
   "metadata": {},
   "outputs": [
    {
     "data": {
      "image/png": "[encoded data removed]",
      "text/plain": [
       "<Figure size 640x480 with 1 Axes>"
      ]
     },
     "metadata": {},
     "output_type": "display_data"
    }
   ],
   "source": [
    "#to detect outliers in the 'inflation_rate' column\n",
    "import matplotlib.pyplot as plt\n",
    "\n",
    "plt.boxplot(df[\"inflation_rate\"].dropna())  # Box plot to detect outliers\n",
    "plt.title(\"Inflation Rate Outliers\")\n",
    "plt.show()\n"
   ]
  },
  {
   "cell_type": "code",
   "execution_count": null,
   "id": "4c799c7a",
   "metadata": {},
   "outputs": [],
   "source": []
  }
 ],
 "metadata": {
  "kernelspec": {
   "display_name": "base",
   "language": "python",
   "name": "python3"
  },
  "language_info": {
   "codemirror_mode": {
    "name": "ipython",
    "version": 3
   },
   "file_extension": ".py",
   "mimetype": "text/x-python",
   "name": "python",
   "nbconvert_exporter": "python",
   "pygments_lexer": "ipython3",
   "version": "3.12.7"
  }
 },
 "nbformat": 4,
 "nbformat_minor": 5
}
